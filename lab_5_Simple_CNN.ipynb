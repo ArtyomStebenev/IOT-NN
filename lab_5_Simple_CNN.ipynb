{
 "cells": [
  {
   "cell_type": "code",
   "execution_count": 4,
   "id": "b02a44cb",
   "metadata": {
    "id": "b02a44cb"
   },
   "outputs": [],
   "source": [
    "from __future__ import print_function\n",
    "import argparse\n",
    "import torch\n",
    "import torch.nn as nn\n",
    "import torch.nn.functional as F\n",
    "import torch.optim as optim\n",
    "from torch.utils.data import DataLoader\n",
    "from torchvision import datasets, transforms\n",
    "from torch.optim.lr_scheduler import StepLR\n",
    "from matplotlib import pyplot as plt"
   ]
  },
  {
   "cell_type": "markdown",
   "id": "299d2a48",
   "metadata": {
    "id": "299d2a48"
   },
   "source": [
    "В данной работе вы познакомитесь с простой нейронной сетью для решения задачи распознавания рукописных цифр из набора данных MNIST"
   ]
  },
  {
   "cell_type": "markdown",
   "id": "206a999f",
   "metadata": {
    "id": "206a999f"
   },
   "source": [
    "![jupyter](https://storage.googleapis.com/tfds-data/visualization/fig/mnist-3.0.1.png)"
   ]
  },
  {
   "cell_type": "markdown",
   "id": "b0f919f2",
   "metadata": {
    "id": "b0f919f2"
   },
   "source": [
    "### Создание нейронной сети\n",
    "\n",
    "Создаем класс нейронной сети.\n",
    "\n",
    "Наследуемся от nn.Module\n",
    "\n",
    "Создаем методы init и forward.\n",
    "\n",
    "В init инициализируем слои в поля класса (через self.название_слоя) см. пример. Пропишите сверточные слои, линейные слои, дропауты и maxpool\n",
    "\n",
    "В forward создаем \"путь\" по которому пройдут входные данные. Функция должна вернуть результат всех преобразований.\n",
    "\n",
    "#### Задание\n",
    "\n",
    "1) Допишите в метод init необходимые слои из приложенной схемы\n",
    "\n",
    "2) Допишите в метод forward \"путь\" входных данных через все слои и присвойте переменной output полученное значение"
   ]
  },
  {
   "cell_type": "code",
   "execution_count": null,
   "id": "T9AQHEDQx6tN",
   "metadata": {
    "colab": {
     "base_uri": "https://localhost:8080/",
     "height": 504
    },
    "executionInfo": {
     "elapsed": 297,
     "status": "ok",
     "timestamp": 1695123381985,
     "user": {
      "displayName": "Андрей Макаров",
      "userId": "14120510535867935743"
     },
     "user_tz": -240
    },
    "id": "T9AQHEDQx6tN",
    "outputId": "14f1e5b2-c2a4-4871-8237-eecd5b5b6ced"
   },
   "outputs": [
    {
     "data": {
      "text/html": [
       "<iframe src=\"https://drive.google.com/file/d/1M5ppV_EvwzG-265VbQb0ZsK6GL2wxMVC/preview\" width=\"640\" height=\"480\" allow=\"autoplay\"></iframe>\n"
      ],
      "text/plain": [
       "<IPython.core.display.HTML object>"
      ]
     },
     "metadata": {},
     "output_type": "display_data"
    }
   ],
   "source": [
    "%%html\n",
    "<iframe src=\"https://drive.google.com/file/d/1M5ppV_EvwzG-265VbQb0ZsK6GL2wxMVC/preview\" width=\"640\" height=\"480\" allow=\"autoplay\"></iframe>"
   ]
  },
  {
   "cell_type": "code",
   "execution_count": 5,
   "id": "fb88d559",
   "metadata": {
    "id": "fb88d559"
   },
   "outputs": [],
   "source": [
    "class CN_Net(nn.Module):\n",
    "    def __init__(self):\n",
    "        super(CN_Net, self).__init__()\n",
    "        self.conv1 = nn.Conv2d(1, 32, 3, 1)\n",
    "        self.pool1 = nn.MaxPool2d(2, 2)\n",
    "        self.conv2 = nn.Conv2d(32, 64, 3, 1)\n",
    "        self.pool2 = nn.MaxPool2d(2, 2)\n",
    "\n",
    "        \n",
    "        self._to_linear = None\n",
    "        self._to_linear = self._calc_linear_input_size((1, 28, 28))\n",
    "\n",
    "        self.fc1 = nn.Linear(self._to_linear, 128)\n",
    "        self.fc2 = nn.Linear(128, 10)\n",
    "        self.log_softmax = nn.LogSoftmax(dim=1)\n",
    "\n",
    "    \n",
    "\n",
    "    def _calc_linear_input_size(self, shape):\n",
    "        x = torch.randn(1, *shape) \n",
    "        x = self.conv1(x)\n",
    "        x = F.relu(x)\n",
    "        x = self.pool1(x)\n",
    "        x = self.conv2(x)\n",
    "        x = F.relu(x)\n",
    "        x = self.pool2(x)\n",
    "        return x.reshape(1, -1).size(1)  \n",
    "\n",
    "\n",
    "\n",
    "    def forward(self, x):\n",
    "        \n",
    "        x = self.conv1(x)\n",
    "        x = F.relu(x)\n",
    "        x = self.pool1(x)\n",
    "        x = self.conv2(x)\n",
    "        x = F.relu(x)\n",
    "        x = self.pool2(x)\n",
    "\n",
    "        \n",
    "        x = x.reshape(-1, self._to_linear)  \n",
    "\n",
    "        x = self.fc1(x)\n",
    "        x = F.relu(x)\n",
    "        x = self.fc2(x)\n",
    "\n",
    "        output = self.log_softmax(x)\n",
    "        return output        "
   ]
  },
  {
   "cell_type": "markdown",
   "id": "b0cf423e",
   "metadata": {
    "id": "b0cf423e"
   },
   "source": [
    "### Обучение и тестирование нейронной сети\n",
    "\n",
    "Нейронная сеть представляет собой некоторую последовательность слоев, связанных между собой.\n",
    "Их можно рассматривать как матричные преобразования.\n",
    "\n",
    "Так как мы не знаем нужные веса нашей сети для решения поставленной задачи, то после каждого шага мы будем сверять полученные значения с целевыми, внося поправки в веса при помощи обратного распространения ошибки."
   ]
  },
  {
   "cell_type": "markdown",
   "id": "73ec83e0",
   "metadata": {
    "id": "73ec83e0"
   },
   "source": [
    "Создадим функцию для обучения нашей сети. На вход подаем:\n",
    "- словарь, содержащий гиперпараметры\n",
    "- модель\n",
    "- устройство на котором будем считать (в нашем случае это CPU)\n",
    "- загрузчик данных\n",
    "- оптимизатор\n",
    "- количество эпох"
   ]
  },
  {
   "cell_type": "markdown",
   "id": "4db4efd1",
   "metadata": {
    "id": "4db4efd1"
   },
   "source": [
    "### Задание\n",
    "\n",
    "Допишите нехватающие элементы в функции train"
   ]
  },
  {
   "cell_type": "code",
   "execution_count": 7,
   "id": "0511c0d0",
   "metadata": {
    "id": "0511c0d0"
   },
   "outputs": [],
   "source": [
    "def train(args: dict,\n",
    "          model: nn.Module,\n",
    "          device: torch.device,\n",
    "          train_loader,\n",
    "          optimizer: torch.optim,\n",
    "          epoch: int):\n",
    "    model.train()\n",
    "\n",
    "    \n",
    "    for batch_idx, (data, target) in enumerate(train_loader):\n",
    "        data, target = data.to(device), target.to(device)\n",
    " \n",
    "        optimizer.zero_grad()  \n",
    "        output = model(data)  \n",
    "\n",
    "        \n",
    "        loss = F.nll_loss(output, target)  \n",
    "        loss.backward()  \n",
    "\n",
    "        optimizer.step()\n",
    "\n",
    "        \n",
    "        if batch_idx % args['log_interval'] == 0:\n",
    "            print('Train Epoch: {} [{}/{} ({:.0f}%)]\\tLoss: {:.6f}'.format(\n",
    "                epoch, batch_idx * len(data), len(train_loader.dataset),\n",
    "                100. * batch_idx / len(train_loader), loss.item()))\n"
   ]
  },
  {
   "cell_type": "markdown",
   "id": "8be8d2c0",
   "metadata": {
    "id": "8be8d2c0"
   },
   "source": [
    "Создадим функцию для тестирования нашей сети. На вход подаем:\n",
    "- модель\n",
    "- устройство, на котором будем считать\n",
    "- загрузчик данных\n",
    "- оптимизатор"
   ]
  },
  {
   "cell_type": "markdown",
   "id": "1dc342a7",
   "metadata": {
    "id": "1dc342a7"
   },
   "source": [
    "### Задание\n",
    "\n",
    "Допишите нехватающие элементы в функции test"
   ]
  },
  {
   "cell_type": "code",
   "execution_count": 8,
   "id": "deaa18a7",
   "metadata": {
    "id": "deaa18a7"
   },
   "outputs": [],
   "source": [
    "def test(model: nn.Module,\n",
    "         device,\n",
    "         test_loader):\n",
    "    # переведем модель в режим предсказания\n",
    "    model.eval()\n",
    "\n",
    "    # создадим переменные для подсчета суммарного значения функции потерь и количества правильных ответов\n",
    "    test_loss = 0.0\n",
    "    correct = 0.0\n",
    "\n",
    "    #  запустим цикл в режиме без расчета градиентов\n",
    "    with torch.no_grad():\n",
    "        for data, target in test_loader:\n",
    "            data, target = data.to(device), target.to(device)\n",
    "\n",
    "            # передадим данные в модель\n",
    "            output = model(data)  # вместо многоточия ваш код\n",
    "\n",
    "            # просуммируем значения функции потерь на текущем шаге с общей\n",
    "            # используйте ту же функцию потерь что и в train (чтобы получить значение вызовите метод .item())\n",
    "            test_loss += F.nll_loss(output, target, reduction='sum').item()  # вместо многоточия ваш код\n",
    "\n",
    "            # найдем позицию (метку класса) максимального элемента предсказания при помощи argmax\n",
    "            pred = output.argmax(dim=1, keepdim=True)  # вместо многоточия ваш код\n",
    "\n",
    "            # подсчитаем количество верных ответов\n",
    "            correct += pred.eq(target.view_as(pred)).sum().item()\n",
    "\n",
    "    # подсчитаем среднее значение функции потерь для всего набора данных\n",
    "    test_loss /= len(test_loader.dataset)\n",
    "\n",
    "    print('\\nTest set: Average loss: {:.4f}, Accuracy: {}/{} ({:.0f}%)\\n'.format(\n",
    "        test_loss, correct, len(test_loader.dataset),\n",
    "        100. * correct / len(test_loader.dataset)))\n",
    "    return test_loss"
   ]
  },
  {
   "cell_type": "markdown",
   "id": "b5d7a21a",
   "metadata": {
    "id": "b5d7a21a"
   },
   "source": [
    "### Гиперпараметры\n",
    "\n",
    "Для обучения сети нам потребуется задать параметры от которых мы будем отталкиваться при формировании учебных наборов, шагов оптимизатора и т.д."
   ]
  },
  {
   "cell_type": "code",
   "execution_count": 9,
   "id": "6668de63",
   "metadata": {
    "id": "6668de63"
   },
   "outputs": [],
   "source": [
    "args = {'batch_size': 64,\n",
    "        'test_batch_size': 1000,\n",
    "        'epochs': 14,\n",
    "        'lr': 1.0,\n",
    "        'gamma': 0.7,\n",
    "        'log_interval': 1000,\n",
    "        'save_model': False\n",
    "        }"
   ]
  },
  {
   "cell_type": "markdown",
   "id": "0d362c08",
   "metadata": {
    "id": "0d362c08"
   },
   "source": [
    "зададим устройство, на котором будем производить расчеты. Расчеты на GPU не будем рассматривать в рамках нашего курса. Если запускаете на collab то поменяйте параметр cpu на gpu"
   ]
  },
  {
   "cell_type": "code",
   "execution_count": 10,
   "id": "a92ee83c",
   "metadata": {
    "id": "a92ee83c"
   },
   "outputs": [],
   "source": [
    "device = torch.device(\"cpu\")"
   ]
  },
  {
   "cell_type": "markdown",
   "id": "390be9cf",
   "metadata": {
    "id": "390be9cf"
   },
   "source": [
    "создадим два словаря с ключами 'batch_size'\n",
    "значения для них возьмем из args по ключам batch_size и test_batch_size соответственно"
   ]
  },
  {
   "cell_type": "code",
   "execution_count": 11,
   "id": "4806d96d",
   "metadata": {
    "id": "4806d96d"
   },
   "outputs": [],
   "source": [
    "train_kwargs = {'batch_size': args['batch_size']}\n",
    "test_kwargs  = {'batch_size': args['test_batch_size']}"
   ]
  },
  {
   "cell_type": "markdown",
   "id": "3951e7e3",
   "metadata": {
    "id": "3951e7e3"
   },
   "source": [
    "создадим пайплайн предобработки данных из набора данных\n",
    "\n",
    "Поместим в него преобразование в тензоры (для работы torch) и нормализацию данных"
   ]
  },
  {
   "cell_type": "code",
   "execution_count": 12,
   "id": "35ad5738",
   "metadata": {
    "id": "35ad5738"
   },
   "outputs": [],
   "source": [
    "transform=transforms.Compose([\n",
    "        transforms.ToTensor(),\n",
    "        transforms.Normalize((0.1307,), (0.3081,))\n",
    "        ])"
   ]
  },
  {
   "cell_type": "markdown",
   "id": "c6a3363a",
   "metadata": {
    "id": "c6a3363a"
   },
   "source": [
    "скачаем учебный и тестовый наборы данных при помощи datasets.MNIST\n",
    "\n",
    "для учебного набора укажите:\n",
    "- папку сохранения\n",
    "- флаг скачивания учебного набора\n",
    "- параметр transform=transform, который преобразует наши данные так, как мы задали выше"
   ]
  },
  {
   "cell_type": "markdown",
   "id": "dcd0801f",
   "metadata": {
    "id": "dcd0801f"
   },
   "source": [
    "### Задание\n",
    "\n",
    "Заполните аргументы в ячейке ниже для скачивания наборов данных"
   ]
  },
  {
   "cell_type": "code",
   "execution_count": 15,
   "id": "688ffc27",
   "metadata": {
    "id": "688ffc27"
   },
   "outputs": [
    {
     "name": "stderr",
     "output_type": "stream",
     "text": [
      "100.0%\n",
      "100.0%\n",
      "100.0%\n",
      "100.0%\n"
     ]
    }
   ],
   "source": [
    "dataset1 = datasets.MNIST(\"../MNIST/train\", train=True, download=True,\n",
    "                       transform=transforms.Compose([\n",
    "                           transforms.ToTensor(),\n",
    "                           transforms.Normalize((0.1307,), (0.3081,))\n",
    "                       ]))\n",
    "dataset2 = datasets.MNIST(\"../MNIST/test\", train=False, download=True,\n",
    "                       transform=transforms.Compose([\n",
    "                           transforms.ToTensor(),\n",
    "                           transforms.Normalize((0.1307,), (0.3081,))\n",
    "                       ]))"
   ]
  },
  {
   "cell_type": "markdown",
   "id": "320b32ee",
   "metadata": {
    "id": "320b32ee"
   },
   "source": [
    "Создадим загрузчики данных при помощи DataLoader из torch"
   ]
  },
  {
   "cell_type": "code",
   "execution_count": 16,
   "id": "759742ca",
   "metadata": {
    "id": "759742ca"
   },
   "outputs": [],
   "source": [
    "train_loader = DataLoader(dataset1, **train_kwargs)\n",
    "test_loader  = DataLoader(dataset2, **test_kwargs)"
   ]
  },
  {
   "cell_type": "markdown",
   "id": "922a694a",
   "metadata": {
    "id": "922a694a"
   },
   "source": [
    "### Задание\n",
    "\n",
    "инициализируйте модель:"
   ]
  },
  {
   "cell_type": "code",
   "execution_count": 19,
   "id": "224d156c",
   "metadata": {
    "id": "224d156c"
   },
   "outputs": [],
   "source": [
    "use_cuda = torch.cuda.is_available()\n",
    "device = torch.device(\"cuda\" if use_cuda else \"cpu\")\n",
    "\n",
    "model = CN_Net().to(device)"
   ]
  },
  {
   "cell_type": "markdown",
   "id": "33c8613d",
   "metadata": {
    "id": "33c8613d"
   },
   "source": [
    "инициализируем оптимизатор и планировщик\n",
    "\n",
    "Оптимизатор отвечает за стратегию нахождения минимума\n",
    "\n",
    "Планировщик позволяет уменьшать шаг оптимизатора на заданную гамму"
   ]
  },
  {
   "cell_type": "code",
   "execution_count": 20,
   "id": "da1d977b",
   "metadata": {
    "id": "da1d977b"
   },
   "outputs": [],
   "source": [
    "optimizer = optim.Adadelta(model.parameters(), lr=args['lr'])\n",
    "scheduler = StepLR(optimizer, step_size=1, gamma=args['gamma'])"
   ]
  },
  {
   "cell_type": "markdown",
   "id": "159b2679",
   "metadata": {
    "id": "159b2679"
   },
   "source": [
    "Создадим цикл, в котором будет количество повторений равное количество эпох.\n",
    "Получим из test значение лосс-функции на тестовой выборке.\n",
    "\n",
    "Внутри тела цикла вызовем поочередно функции обучения и тестирования с требуемыми аргументами.\n",
    "\n",
    "Насладимся результатами."
   ]
  },
  {
   "cell_type": "code",
   "execution_count": 21,
   "id": "30482fb1",
   "metadata": {
    "id": "30482fb1"
   },
   "outputs": [
    {
     "name": "stdout",
     "output_type": "stream",
     "text": [
      "Train Epoch: 1 [0/60000 (0%)]\tLoss: 2.306472\n",
      "\n",
      "Test set: Average loss: 0.0520, Accuracy: 9835.0/10000 (98%)\n",
      "\n",
      "Train Epoch: 2 [0/60000 (0%)]\tLoss: 0.027360\n",
      "\n",
      "Test set: Average loss: 0.0321, Accuracy: 9884.0/10000 (99%)\n",
      "\n",
      "Train Epoch: 3 [0/60000 (0%)]\tLoss: 0.037794\n",
      "\n",
      "Test set: Average loss: 0.0353, Accuracy: 9889.0/10000 (99%)\n",
      "\n",
      "Train Epoch: 4 [0/60000 (0%)]\tLoss: 0.051919\n",
      "\n",
      "Test set: Average loss: 0.0361, Accuracy: 9889.0/10000 (99%)\n",
      "\n",
      "Train Epoch: 5 [0/60000 (0%)]\tLoss: 0.013782\n",
      "\n",
      "Test set: Average loss: 0.0336, Accuracy: 9910.0/10000 (99%)\n",
      "\n",
      "Train Epoch: 6 [0/60000 (0%)]\tLoss: 0.001050\n",
      "\n",
      "Test set: Average loss: 0.0398, Accuracy: 9911.0/10000 (99%)\n",
      "\n",
      "Train Epoch: 7 [0/60000 (0%)]\tLoss: 0.000640\n",
      "\n",
      "Test set: Average loss: 0.0478, Accuracy: 9896.0/10000 (99%)\n",
      "\n",
      "Train Epoch: 8 [0/60000 (0%)]\tLoss: 0.001339\n",
      "\n",
      "Test set: Average loss: 0.0420, Accuracy: 9915.0/10000 (99%)\n",
      "\n",
      "Train Epoch: 9 [0/60000 (0%)]\tLoss: 0.006240\n",
      "\n",
      "Test set: Average loss: 0.0547, Accuracy: 9893.0/10000 (99%)\n",
      "\n",
      "Train Epoch: 10 [0/60000 (0%)]\tLoss: 0.002302\n",
      "\n",
      "Test set: Average loss: 0.0618, Accuracy: 9894.0/10000 (99%)\n",
      "\n",
      "Train Epoch: 11 [0/60000 (0%)]\tLoss: 0.000412\n",
      "\n",
      "Test set: Average loss: 0.0613, Accuracy: 9901.0/10000 (99%)\n",
      "\n",
      "Train Epoch: 12 [0/60000 (0%)]\tLoss: 0.000222\n",
      "\n",
      "Test set: Average loss: 0.0458, Accuracy: 9924.0/10000 (99%)\n",
      "\n",
      "Train Epoch: 13 [0/60000 (0%)]\tLoss: 0.000001\n",
      "\n",
      "Test set: Average loss: 0.0493, Accuracy: 9921.0/10000 (99%)\n",
      "\n",
      "Train Epoch: 14 [0/60000 (0%)]\tLoss: 0.000002\n",
      "\n",
      "Test set: Average loss: 0.0472, Accuracy: 9932.0/10000 (99%)\n",
      "\n"
     ]
    }
   ],
   "source": [
    "losses = []\n",
    "for epoch in range(1, args['epochs'] + 1):\n",
    "    train(args, model, device, train_loader, optimizer, epoch)\n",
    "    loss = test(model, device, test_loader)\n",
    "    losses.append(loss)"
   ]
  },
  {
   "cell_type": "markdown",
   "id": "46761afa",
   "metadata": {
    "id": "46761afa"
   },
   "source": [
    "Отрисуем график функции потерь на тестовом наборе в зависимости от эпохи"
   ]
  },
  {
   "cell_type": "code",
   "execution_count": 22,
   "id": "e45c2ff8",
   "metadata": {
    "id": "e45c2ff8"
   },
   "outputs": [
    {
     "data": {
      "image/png": "[encoded data removed]",
      "text/plain": [
       "<Figure size 1500x1000 with 1 Axes>"
      ]
     },
     "metadata": {},
     "output_type": "display_data"
    }
   ],
   "source": [
    "plt.figure(figsize=(15, 10))\n",
    "plt.plot(losses)\n",
    "plt.xlabel('Epochs', size=20)\n",
    "plt.ylabel('Loss function', size=20)\n",
    "plt.show()"
   ]
  }
 ],
 "metadata": {
  "colab": {
   "provenance": []
  },
  "kernelspec": {
   "display_name": ".venv",
   "language": "python",
   "name": "python3"
  },
  "language_info": {
   "codemirror_mode": {
    "name": "ipython",
    "version": 3
   },
   "file_extension": ".py",
   "mimetype": "text/x-python",
   "name": "python",
   "nbconvert_exporter": "python",
   "pygments_lexer": "ipython3",
   "version": "3.12.7"
  }
 },
 "nbformat": 4,
 "nbformat_minor": 5
}
