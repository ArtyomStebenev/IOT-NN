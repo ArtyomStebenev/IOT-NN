{
 "cells": [
  {
   "cell_type": "markdown",
   "id": "70a20d37",
   "metadata": {},
   "source": [
    "# Лабораторная работа №2\n"
   ]
  },
  {
   "cell_type": "markdown",
   "id": "d757bc60",
   "metadata": {},
   "source": [
    "Предлагается решить 10 задач на закрепление синтаксиса и наработки навыка решения типовых задач, с которыми далее вы столкнетесь в том или ином виде.\n",
    "\n",
    "Напоминаю: гуглить - залог успеха."
   ]
  },
  {
   "cell_type": "markdown",
   "id": "58100ed1",
   "metadata": {},
   "source": [
    "### Задача 1.\n",
    "\n",
    "Дан список случайных целых чисел arr. \n",
    "\n",
    "Реализуйте функцию, которая будет принимать список и возвращать кортеж состояющий из:\n",
    "1) Максимума\n",
    "\n",
    "2) Минимума\n",
    "\n",
    "3) Среднего\n",
    "\n",
    "4) Медианы\n"
   ]
  },
  {
   "cell_type": "code",
   "execution_count": 175,
   "id": "73884582",
   "metadata": {},
   "outputs": [
    {
     "name": "stdout",
     "output_type": "stream",
     "text": [
      "[-31, -57, 40, -67, 41, 95, 57, 28, 7, -46, 16, -68, 11, 4, 34, 12, -37, -9, 76, 45, 18, 64, 0, 35, -99, 43, -4, 30, -7, -41, 2, 5, -17, 81, -43, 84, -85, -79, -1, -65, 96, 91, 78, -91, 25, 10, 79, -52, -10, -34]\n"
     ]
    }
   ],
   "source": [
    "# Здесь ничего менять не надо, это исходные данные с которыми будете работать\n",
    "import random\n",
    "\n",
    "# в arr будет записан список из 50 случайных целых чисел в диапазоне от -100 до 100\n",
    "arr = random.sample(range(-100, 100), 50)\n",
    "print(arr)"
   ]
  },
  {
   "cell_type": "code",
   "execution_count": 176,
   "id": "2bdf05f1",
   "metadata": {},
   "outputs": [
    {
     "name": "stdout",
     "output_type": "stream",
     "text": [
      "(96, -99, 5.28, 7)\n"
     ]
    }
   ],
   "source": [
    "# в данной функции реализуйте нахождение максимума, минимума, среднего и медианы. Вернуть их в любом порядке. \n",
    "# Слова max, min, mean являются КЛЮЧЕВЫМИ не именуйте так свои переменные!\n",
    "\n",
    "def list_stat(arr):\n",
    "    arr.sort()\n",
    "    \n",
    "    maximum: int = arr[-1]\n",
    "    minimum: int = arr[0]\n",
    "    average: float = sum(arr)/len(arr)\n",
    "    median:  int = arr[len(arr)//2]\n",
    "\n",
    "\n",
    "    return (maximum, minimum, average, median)\n",
    "\n",
    "print(list_stat(arr))"
   ]
  },
  {
   "cell_type": "markdown",
   "id": "8dcc297d",
   "metadata": {},
   "source": [
    "### Задача 2.\n",
    "\n",
    "Дан список из предыдущей задачи.\n",
    "\n",
    "Создайте функцию, которая принимает список и возвращает отсортированный по убыванию список из которого удалены все ОТРИЦАТЕЛЬНЫЕ ЧЕТНЫЕ числа.\n",
    "\n",
    "Подсказка: можно решить итеративно в лоб, добавляя в новый список требуемые элементы. Либо использовать filter(), про который можно прочесть в документации (потребуется посмотреть еще лямбда-функции)."
   ]
  },
  {
   "cell_type": "code",
   "execution_count": 177,
   "id": "eada7f6d",
   "metadata": {},
   "outputs": [
    {
     "name": "stdout",
     "output_type": "stream",
     "text": [
      "[-1, -4, -7, -9, -10, -17, -31, -34, -37, -41, -43, -46, -52, -57, -65, -67, -68, -79, -85, -91, -99]\n"
     ]
    }
   ],
   "source": [
    "def get_sorted_negative_numbers(numbers: list):\n",
    "  result: list = list(filter(lambda i: i < 0, numbers))\n",
    "  result.sort(reverse=True)\n",
    "  return result\n",
    "\n",
    "print(get_sorted_negative_numbers(arr))\n",
    "  "
   ]
  },
  {
   "cell_type": "markdown",
   "id": "d00b2c0e",
   "metadata": {},
   "source": [
    "### Задача 3.\n",
    "\n",
    "Дана строка. \n",
    "\n",
    "Создайте функцию, которая принимает строку и возвращает кортеж из количества уникальных слов и длины строки. Регистр не является признаком уникальности слова, т.е. Pump и pump равнозначны. \n",
    "\n",
    "Подсказка: прочитайте про функцию split(). Обратите внимание, что нужно удалить все знаки препинания."
   ]
  },
  {
   "cell_type": "code",
   "execution_count": 326,
   "id": "b438bac9",
   "metadata": {},
   "outputs": [],
   "source": [
    "sentence: str = 'On the other hand, we denounce with righteous indignation and \\\n",
    "dislike men who are so beguiled and demoralized by the charms of \\\n",
    "pleasure of the moment, so blinded by desire, that they cannot \\\n",
    "foresee the pain and trouble that are bound to ensue; and equal \\\n",
    "blame belongs to those who fail in their duty through weakness of will, \\\n",
    "which is the same as saying through shrinking from toil and pain.'\n"
   ]
  },
  {
   "cell_type": "code",
   "execution_count": 198,
   "id": "761bc35c",
   "metadata": {},
   "outputs": [
    {
     "name": "stdout",
     "output_type": "stream",
     "text": [
      "(43, 391)\n"
     ]
    }
   ],
   "source": [
    "from collections import Counter\n",
    "\n",
    "def get_unique_words(string: str):\n",
    "  words: list = Counter(string.split())\n",
    "  unique_words_count: int = len(list(filter(lambda i: words[i] == 1, words)))\n",
    "  return (unique_words_count, len(string))\n",
    "\n",
    "print(get_unique_words(sentence))"
   ]
  },
  {
   "cell_type": "markdown",
   "id": "1f412e93",
   "metadata": {},
   "source": [
    "### Задача 4\n",
    "\n",
    "Дана строка из задачи выше.\n",
    "\n",
    "Создайте функцию, которая принимает строку и считает количество упоминаний каждого слова и возвращает ответ в виде словаря.\n",
    "Выведите этот словарь. "
   ]
  },
  {
   "cell_type": "code",
   "execution_count": 118,
   "id": "120a8592",
   "metadata": {},
   "outputs": [
    {
     "name": "stdout",
     "output_type": "stream",
     "text": [
      "{'on': 1, 'the': 5, 'other': 1, 'hand,': 1, 'we': 1, 'denounce': 1, 'with': 1, 'righteous': 1, 'indignation': 1, 'and': 5, 'dislike': 1, 'men': 1, 'who': 2, 'are': 2, 'so': 2, 'beguiled': 1, 'demoralized': 1, 'by': 2, 'charms': 1, 'of': 3, 'pleasure': 1, 'moment,': 1, 'blinded': 1, 'desire,': 1, 'that': 2, 'they': 1, 'cannot': 1, 'foresee': 1, 'pain': 1, 'trouble': 1, 'bound': 1, 'to': 2, 'ensue;': 1, 'equal': 1, 'blame': 1, 'belongs': 1, 'those': 1, 'fail': 1, 'in': 1, 'their': 1, 'duty': 1, 'through': 2, 'weakness': 1, 'will,': 1, 'which': 1, 'is': 1, 'same': 1, 'as': 1, 'saying': 1, 'shrinking': 1, 'from': 1, 'toil': 1, 'pain.': 1}\n"
     ]
    }
   ],
   "source": [
    "from collections import Counter\n",
    "\n",
    "\n",
    "def get_occurences(words: list):\n",
    "  return dict(Counter(map(str.lower, words)))\n",
    "\n",
    "\n",
    "print(get_occurences(sentence.split()))"
   ]
  },
  {
   "cell_type": "markdown",
   "id": "c5fdf1e0",
   "metadata": {},
   "source": [
    "### Задача 5\n",
    "\n",
    "Дана строка из задачи выше.\n",
    "\n",
    "Создайте функцию, которая принимает строку и удаляет все слова начинающиеся на t (регистр не имеет значения) и возвращает полученную строку."
   ]
  },
  {
   "cell_type": "code",
   "execution_count": 328,
   "id": "e37dadf6",
   "metadata": {},
   "outputs": [
    {
     "data": {
      "text/plain": [
       "'On other hand, we denounce with righteous indignation and dislike men who are so beguiled and demoralized by charms of pleasure of moment, so blinded by desire, cannot foresee pain and are bound ensue; and equal blame belongs who fail in duty weakness of will, which is same as saying shrinking from and pain.'"
      ]
     },
     "execution_count": 328,
     "metadata": {},
     "output_type": "execute_result"
    }
   ],
   "source": [
    "def delte_t_words(string: str):\n",
    "  words: list = string.split()\n",
    "  \n",
    "  return ' '.join(filter(lambda i: i[0].lower() != 't', words))\n",
    "\n",
    "delte_t_words(sentence)"
   ]
  },
  {
   "cell_type": "markdown",
   "id": "1a6dd5d2",
   "metadata": {},
   "source": [
    "### Задача 6\n",
    "\n",
    "Дана строка из задачи выше.\n",
    "\n",
    "Посчитайте количество глассных и согласных букв. Выведите результат."
   ]
  },
  {
   "cell_type": "code",
   "execution_count": 268,
   "id": "c53467dc",
   "metadata": {},
   "outputs": [
    {
     "data": {
      "text/plain": [
       "(123, 193)"
      ]
     },
     "execution_count": 268,
     "metadata": {},
     "output_type": "execute_result"
    }
   ],
   "source": [
    "import re\n",
    "\n",
    "def count_vowels_consonants(string: str):\n",
    "  consonants: int = len(re.findall(r\"[b-df-hj-np-tv-z]\", string.lower()))\n",
    "  vowels: int = len(re.findall(r\"[aeiou]\", string.lower()))\n",
    "  \n",
    "  return (vowels, consonants)\n",
    "\n",
    "count_vowels_consonants(sentence)"
   ]
  },
  {
   "cell_type": "markdown",
   "id": "0fb06cef",
   "metadata": {},
   "source": [
    "### Задача 7\n",
    "Из приложенного файла lab_2.txt считать текст. \n",
    "\n",
    "Посчитайте количество предложений в нем и выведите."
   ]
  },
  {
   "cell_type": "code",
   "execution_count": 293,
   "id": "1993a351",
   "metadata": {},
   "outputs": [
    {
     "data": {
      "text/plain": [
       "2"
      ]
     },
     "execution_count": 293,
     "metadata": {},
     "output_type": "execute_result"
    }
   ],
   "source": [
    "len(re.findall(r\"[.;]\", sentence.lower()))"
   ]
  },
  {
   "cell_type": "markdown",
   "id": "ab52fde5",
   "metadata": {},
   "source": [
    "### Задача 8\n",
    "Заданы два вектора.\n",
    "\n",
    "Напишите функцию которая принимает два списка и возвращает значение их скалярного произведения."
   ]
  },
  {
   "cell_type": "code",
   "execution_count": 63,
   "id": "23d6cfb2",
   "metadata": {},
   "outputs": [
    {
     "data": {
      "text/plain": [
       "49"
      ]
     },
     "execution_count": 63,
     "metadata": {},
     "output_type": "execute_result"
    }
   ],
   "source": [
    "vec_1 = [0, 1, 15]\n",
    "vec_2 = [2, 4, 3]\n",
    "\n",
    "\n",
    "def scalar_multiplication(vec_1: list, vec_2: list):\n",
    "  if(len(vec_1) != len(vec_2)): raise ArithmeticError(\"Vectors are not the same length!\")\n",
    "  return sum(vec_1[i]*vec_2[i] for i in range(0, len(vec_1)))\n",
    "\n",
    "scalar_multiplication(vec_1, vec_2)\n",
    "\n"
   ]
  },
  {
   "cell_type": "markdown",
   "id": "b98c42a0",
   "metadata": {},
   "source": [
    "### *Задача 9\n",
    "\n",
    "Дан список состоящий из пар натуральных чисел и одного непарного числа. Найти это число и вывести.\n",
    "\n",
    "Подсказка: можно и нужно использовать оператор XOR. Другие варианты тоже сойдут."
   ]
  },
  {
   "cell_type": "code",
   "execution_count": 278,
   "id": "dc8bf703",
   "metadata": {},
   "outputs": [
    {
     "name": "stdout",
     "output_type": "stream",
     "text": [
      "['3']\n"
     ]
    }
   ],
   "source": [
    "list_with_forever_alone = [2, 1, 3, 3, 1, 5, 2, 6, 9, 8, 8, 9, 2, 6, 5, 3, 2]\n",
    "\n",
    "def get_unpaired_number(numbers: list):\n",
    "  dic = dict(Counter(map(str, numbers)))\n",
    "  \n",
    "  return list(filter(lambda i: dic[i]%2 != 0, dic))\n",
    "\n",
    "print(get_unpaired_number(list_with_forever_alone))"
   ]
  },
  {
   "cell_type": "markdown",
   "id": "58c7a367",
   "metadata": {},
   "source": [
    "### *Задача 10\n",
    "\n",
    "Дан список натуральных чисел. Вывести все числа, являющиеся степенью двойки."
   ]
  },
  {
   "cell_type": "code",
   "execution_count": 271,
   "id": "c69960d9",
   "metadata": {},
   "outputs": [
    {
     "data": {
      "text/plain": [
       "[32, 8, 2, 16]"
      ]
     },
     "execution_count": 271,
     "metadata": {},
     "output_type": "execute_result"
    }
   ],
   "source": [
    "import math\n",
    "\n",
    "list_with_power_two: list = [24, 13, 25, 32, 17, 8, 2, 14, 0, 16, 1]\n",
    "\n",
    "def get_two_degree_numbers(list: list):\n",
    "  result_list: list = []  \n",
    "  \n",
    "  for i in list:\n",
    "    if i <= 0 or i == 1: continue\n",
    "    elif math.log2(i).is_integer():\n",
    "      result_list.append(i)\n",
    "  return result_list\n",
    "\n",
    "get_two_degree_numbers(list_with_power_two)"
   ]
  }
 ],
 "metadata": {
  "kernelspec": {
   "display_name": "Python 3",
   "language": "python",
   "name": "python3"
  },
  "language_info": {
   "codemirror_mode": {
    "name": "ipython",
    "version": 3
   },
   "file_extension": ".py",
   "mimetype": "text/x-python",
   "name": "python",
   "nbconvert_exporter": "python",
   "pygments_lexer": "ipython3",
   "version": "3.12.8"
  }
 },
 "nbformat": 4,
 "nbformat_minor": 5
}
