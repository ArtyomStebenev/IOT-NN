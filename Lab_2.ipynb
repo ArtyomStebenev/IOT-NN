{
 "cells": [
  {
   "cell_type": "markdown",
   "id": "70a20d37",
   "metadata": {},
   "source": [
    "# Лабораторная работа №2\n"
   ]
  },
  {
   "cell_type": "markdown",
   "id": "d757bc60",
   "metadata": {},
   "source": [
    "Предлагается решить 10 задач на закрепление синтаксиса и наработки навыка решения типовых задач, с которыми далее вы столкнетесь в том или ином виде.\n",
    "\n",
    "Напоминаю: гуглить - залог успеха."
   ]
  },
  {
   "cell_type": "markdown",
   "id": "58100ed1",
   "metadata": {},
   "source": [
    "### Задача 1.\n",
    "\n",
    "Дан список случайных целых чисел arr. \n",
    "\n",
    "Реализуйте функцию, которая будет принимать список и возвращать кортеж состояющий из:\n",
    "1) Максимума\n",
    "\n",
    "2) Минимума\n",
    "\n",
    "3) Среднего\n",
    "\n",
    "4) Медианы\n"
   ]
  },
  {
   "cell_type": "code",
   "execution_count": 102,
   "id": "73884582",
   "metadata": {},
   "outputs": [
    {
     "name": "stdout",
     "output_type": "stream",
     "text": [
      "[80, -24, 91, 42, 11]\n"
     ]
    }
   ],
   "source": [
    "# Здесь ничего менять не надо, это исходные данные с которыми будете работать\n",
    "import random\n",
    "\n",
    "# в arr будет записан список из 50 случайных целых чисел в диапазоне от -100 до 100\n",
    "arr = random.sample(range(-100, 100), 5)\n",
    "print(arr)"
   ]
  },
  {
   "cell_type": "code",
   "execution_count": 103,
   "id": "2bdf05f1",
   "metadata": {},
   "outputs": [
    {
     "name": "stdout",
     "output_type": "stream",
     "text": [
      "(91, -24, 40.0, 42)\n"
     ]
    }
   ],
   "source": [
    "# в данной функции реализуйте нахождение максимума, минимума, среднего и медианы. Вернуть их в любом порядке. \n",
    "# Слова max, min, mean являются КЛЮЧЕВЫМИ не именуйте так свои переменные!\n",
    "\n",
    "def list_stat(arr):\n",
    "    arr.sort()\n",
    "    \n",
    "    maximum = arr[-1]\n",
    "    minimum = arr[0]\n",
    "    average = sum(arr)/len(arr)\n",
    "    median = arr[len(arr)//2]\n",
    "\n",
    "\n",
    "    return (maximum, minimum, average, median)\n",
    "\n",
    "print(list_stat(arr))"
   ]
  },
  {
   "cell_type": "markdown",
   "id": "8dcc297d",
   "metadata": {},
   "source": [
    "### Задача 2.\n",
    "\n",
    "Дан список из предыдущей задачи.\n",
    "\n",
    "Создайте функцию, которая принимает список и возвращает отсортированный по убыванию список из которого удалены все ОТРИЦАТЕЛЬНЫЕ ЧЕТНЫЕ числа.\n",
    "\n",
    "Подсказка: можно решить итеративно в лоб, добавляя в новый список требуемые элементы. Либо использовать filter(), про который можно прочесть в документации (потребуется посмотреть еще лямбда-функции)."
   ]
  },
  {
   "cell_type": "code",
   "execution_count": 26,
   "id": "eada7f6d",
   "metadata": {},
   "outputs": [],
   "source": [
    "# Введите здесь свое решение"
   ]
  },
  {
   "cell_type": "markdown",
   "id": "d00b2c0e",
   "metadata": {},
   "source": [
    "### Задача 3.\n",
    "\n",
    "Дана строка. \n",
    "\n",
    "Создайте функцию, которая принимает строку и возвращает кортеж из количества уникальных слов и длины строки. Регистр не является признаком уникальности слова, т.е. Pump и pump равнозначны. \n",
    "\n",
    "Подсказка: прочитайте про функцию split(). Обратите внимание, что нужно удалить все знаки препинания."
   ]
  },
  {
   "cell_type": "code",
   "execution_count": null,
   "id": "b438bac9",
   "metadata": {},
   "outputs": [],
   "source": [
    "sentence: str = 'On the other hand, we denounce with righteous indignation and \\\n",
    "dislike men who are so beguiled and demoralized by the charms of \\\n",
    "pleasure of the moment, so blinded by desire, that they cannot \\\n",
    "foresee the pain and trouble that are bound to ensue; and equal \\\n",
    "blame belongs to those who fail in their duty through weakness of will, \\\n",
    "which is the same as saying through shrinking from toil and pain.'\n"
   ]
  },
  {
   "cell_type": "code",
   "execution_count": 27,
   "id": "761bc35c",
   "metadata": {},
   "outputs": [],
   "source": [
    "# Введите здесь свое решение"
   ]
  },
  {
   "cell_type": "markdown",
   "id": "1f412e93",
   "metadata": {},
   "source": [
    "### Задача 4\n",
    "\n",
    "Дана строка из задачи выше.\n",
    "\n",
    "Создайте функцию, которая принимает строку и считает количество упоминаний каждого слова и возвращает ответ в виде словаря.\n",
    "Выведите этот словарь. "
   ]
  },
  {
   "cell_type": "code",
   "execution_count": 118,
   "id": "120a8592",
   "metadata": {},
   "outputs": [
    {
     "name": "stdout",
     "output_type": "stream",
     "text": [
      "{'on': 1, 'the': 5, 'other': 1, 'hand,': 1, 'we': 1, 'denounce': 1, 'with': 1, 'righteous': 1, 'indignation': 1, 'and': 5, 'dislike': 1, 'men': 1, 'who': 2, 'are': 2, 'so': 2, 'beguiled': 1, 'demoralized': 1, 'by': 2, 'charms': 1, 'of': 3, 'pleasure': 1, 'moment,': 1, 'blinded': 1, 'desire,': 1, 'that': 2, 'they': 1, 'cannot': 1, 'foresee': 1, 'pain': 1, 'trouble': 1, 'bound': 1, 'to': 2, 'ensue;': 1, 'equal': 1, 'blame': 1, 'belongs': 1, 'those': 1, 'fail': 1, 'in': 1, 'their': 1, 'duty': 1, 'through': 2, 'weakness': 1, 'will,': 1, 'which': 1, 'is': 1, 'same': 1, 'as': 1, 'saying': 1, 'shrinking': 1, 'from': 1, 'toil': 1, 'pain.': 1}\n"
     ]
    }
   ],
   "source": [
    "from collections import Counter\n",
    "\n",
    "\n",
    "def get_occurences(words: list):\n",
    "  return dict(Counter(map(str.lower, words)))\n",
    "\n",
    "\n",
    "print(get_occurences(sentence.split()))"
   ]
  },
  {
   "cell_type": "markdown",
   "id": "c5fdf1e0",
   "metadata": {},
   "source": [
    "### Задача 5\n",
    "\n",
    "Дана строка из задачи выше.\n",
    "\n",
    "Создайте функцию, которая принимает строку и удаляет все слова начинающиеся на t (регистр не имеет значения) и возвращает полученную строку."
   ]
  },
  {
   "cell_type": "code",
   "execution_count": 104,
   "id": "e37dadf6",
   "metadata": {},
   "outputs": [],
   "source": [
    "def delte_t_words(string: str):\n",
    "  words: list = string.lower().split()\n",
    "\n",
    "  return \n",
    "\n",
    "delte_t_words(sentence)"
   ]
  },
  {
   "cell_type": "markdown",
   "id": "1a6dd5d2",
   "metadata": {},
   "source": [
    "### Задача 6\n",
    "\n",
    "Дана строка из задачи выше.\n",
    "\n",
    "Посчитайте количество глассных и согласных букв. Выведите результат."
   ]
  },
  {
   "cell_type": "code",
   "execution_count": 39,
   "id": "c53467dc",
   "metadata": {},
   "outputs": [],
   "source": [
    "# Введите здесь свое решение"
   ]
  },
  {
   "cell_type": "markdown",
   "id": "0fb06cef",
   "metadata": {},
   "source": [
    "### Задача 7\n",
    "Из приложенного файла lab_2.txt считать текст. \n",
    "\n",
    "Посчитайте количество предложений в нем и выведите."
   ]
  },
  {
   "cell_type": "code",
   "execution_count": 41,
   "id": "1993a351",
   "metadata": {},
   "outputs": [],
   "source": [
    "# Введите здесь свое решение"
   ]
  },
  {
   "cell_type": "markdown",
   "id": "ab52fde5",
   "metadata": {},
   "source": [
    "### Задача 8\n",
    "Заданы два вектора.\n",
    "\n",
    "Напишите функцию которая принимает два списка и возвращает значение их скалярного произведения."
   ]
  },
  {
   "cell_type": "code",
   "execution_count": 63,
   "id": "23d6cfb2",
   "metadata": {},
   "outputs": [
    {
     "data": {
      "text/plain": [
       "49"
      ]
     },
     "execution_count": 63,
     "metadata": {},
     "output_type": "execute_result"
    }
   ],
   "source": [
    "vec_1 = [0, 1, 15]\n",
    "vec_2 = [2, 4, 3]\n",
    "\n",
    "\n",
    "def scalar_multiplication(vec_1: list, vec_2: list):\n",
    "  if(len(vec_1) != len(vec_2)): raise ArithmeticError(\"Vectors are not the same length!\")\n",
    "  return sum(vec_1[i]*vec_2[i] for i in range(0, len(vec_1)))\n",
    "\n",
    "scalar_multiplication(vec_1, vec_2)\n",
    "\n"
   ]
  },
  {
   "cell_type": "markdown",
   "id": "b98c42a0",
   "metadata": {},
   "source": [
    "### *Задача 9\n",
    "\n",
    "Дан список состоящий из пар натуральных чисел и одного непарного числа. Найти это число и вывести.\n",
    "\n",
    "Подсказка: можно и нужно использовать оператор XOR. Другие варианты тоже сойдут."
   ]
  },
  {
   "cell_type": "code",
   "execution_count": null,
   "id": "dc8bf703",
   "metadata": {},
   "outputs": [
    {
     "name": "stdout",
     "output_type": "stream",
     "text": [
      "{'2': 4, '1': 2, '3': 3, '5': 2, '6': 2, '9': 2, '8': 2}\n"
     ]
    }
   ],
   "source": [
    "list_with_forever_alone = [2, 1, 3, 3, 1, 5, 2, 6, 9, 8, 8, 9, 2, 6, 5, 3, 2]\n",
    "\n",
    "def get_unpaired_number(numbers: list):\n",
    "\n",
    "  print(dict(Counter(map(str, numbers))))\n",
    "  #нужен filter == 1\n",
    "  #dic = dict(Counter(map(str, numbers)))\n",
    "  #return \n",
    "\n",
    "get_unpaired_number(list_with_forever_alone)"
   ]
  },
  {
   "cell_type": "markdown",
   "id": "58c7a367",
   "metadata": {},
   "source": [
    "### *Задача 10\n",
    "\n",
    "Дан список натуральных чисел. Вывести все числа, являющиеся степенью двойки."
   ]
  },
  {
   "cell_type": "code",
   "execution_count": 76,
   "id": "c69960d9",
   "metadata": {},
   "outputs": [
    {
     "data": {
      "text/plain": [
       "[32, 8, 2, 16, 1]"
      ]
     },
     "execution_count": 76,
     "metadata": {},
     "output_type": "execute_result"
    }
   ],
   "source": [
    "import math\n",
    "\n",
    "list_with_power_two: list = [24, 13, 25, 32, 17, 8, 2, 14, 0, 16, 1]\n",
    "\n",
    "def get_two_degree_numbers(list: list):\n",
    "  result_list: list = []  \n",
    "  \n",
    "  for i in list:\n",
    "    if i <= 0: continue\n",
    "    elif math.log2(i).is_integer():\n",
    "      result_list.append(i)\n",
    "  return result_list\n",
    "\n",
    "get_two_degree_numbers(list_with_power_two)"
   ]
  }
 ],
 "metadata": {
  "kernelspec": {
   "display_name": "Python 3",
   "language": "python",
   "name": "python3"
  },
  "language_info": {
   "codemirror_mode": {
    "name": "ipython",
    "version": 3
   },
   "file_extension": ".py",
   "mimetype": "text/x-python",
   "name": "python",
   "nbconvert_exporter": "python",
   "pygments_lexer": "ipython3",
   "version": "3.12.8"
  }
 },
 "nbformat": 4,
 "nbformat_minor": 5
}
