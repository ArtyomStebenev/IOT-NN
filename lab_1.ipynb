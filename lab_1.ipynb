{
 "cells": [
  {
   "cell_type": "markdown",
   "id": "a671162c",
   "metadata": {},
   "source": [
    "### Задание:\n",
    "Создайте переменную и присвойте ей значение 42317. Посчитайте остаток от деления на 7 и целочисленное деление на 7.\n",
    "\n",
    "Разницу между результатами возведите в квадрат."
   ]
  },
  {
   "cell_type": "code",
   "execution_count": null,
   "id": "c9bd73eb",
   "metadata": {},
   "outputs": [
    {
     "name": "stdout",
     "output_type": "stream",
     "text": [
      "2\n",
      "6045\n",
      "36517849\n"
     ]
    }
   ],
   "source": [
    "number: int = 42317\n",
    "\n",
    "print(number % 7)\n",
    "print(number // 7)\n",
    "\n",
    "((number % 7) - (number // 7)) ** 2\n"
   ]
  },
  {
   "cell_type": "markdown",
   "id": "e6422862",
   "metadata": {},
   "source": [
    "### Задание:\n",
    "Создайте переменные со значениями 15.17 и 21.11. Выведите кубический корень их отношения."
   ]
  },
  {
   "cell_type": "code",
   "execution_count": null,
   "id": "330d100c",
   "metadata": {},
   "outputs": [
    {
     "name": "stdout",
     "output_type": "stream",
     "text": [
      "0.371100929761124\n"
     ]
    }
   ],
   "source": [
    "a: float = 15.17\n",
    "b: float = 21.11\n",
    "\n",
    "print((a / b) ** 3)"
   ]
  },
  {
   "cell_type": "markdown",
   "id": "633f7387",
   "metadata": {},
   "source": [
    "### Задание\n",
    "\n",
    "Создайте переменную со следующим значением:\n",
    "\n",
    "Habitasse est. Sodales ultricies. Imperdiet sit nunc odio. Non ultricies. Dapibus risus mattis dui tempus arcu elit. Imperdiet in e.\n",
    "\n",
    "Приведите ее к нижнему регистру и удалите все знаки препинания. Найдите позицию первого знака в слове ultricies."
   ]
  },
  {
   "cell_type": "code",
   "execution_count": null,
   "id": "d4316f56",
   "metadata": {},
   "outputs": [
    {
     "name": "stdout",
     "output_type": "stream",
     "text": [
      "habitasse est sodales ultricies imperdiet sit nunc odio non ultricies dapibus risus mattis dui tempus arcu elit imperdiet in e\n"
     ]
    },
    {
     "data": {
      "text/plain": [
       "22"
      ]
     },
     "metadata": {},
     "output_type": "display_data"
    }
   ],
   "source": [
    "str_est = \"Habitasse est. Sodales ultricies. Imperdiet sit nunc odio. Non ultricies. Dapibus risus mattis dui tempus arcu elit. Imperdiet in e.\"\n",
    "str_est = str_est.lower().replace('.', '')\n",
    "print(str_est)\n",
    "str_est.find('ultricies')"
   ]
  },
  {
   "cell_type": "markdown",
   "id": "49dddf6e",
   "metadata": {},
   "source": [
    "### Задание\n",
    "\n",
    "Создайте несколько два списка с элементами 1,2,4,8,16 и 1,2,3,5,7. Объедините эти списки. Отсортируйте по возрастанию. Выведите первые четыре элемента."
   ]
  },
  {
   "cell_type": "code",
   "execution_count": null,
   "id": "43f2c0b4",
   "metadata": {},
   "outputs": [
    {
     "name": "stdout",
     "output_type": "stream",
     "text": [
      "[1, 2, 3, 4]\n"
     ]
    }
   ],
   "source": [
    "list_1: list = [1,2,4,8,16]\n",
    "list_2: list = [1,2,3,5,7]\n",
    "\n",
    "union_list: list = list(set(list_1).union(list_2))\n",
    "\n",
    "union_list.sort()\n",
    "print(union_list[0:4])"
   ]
  },
  {
   "cell_type": "markdown",
   "id": "43beb9f3",
   "metadata": {},
   "source": [
    "### Задание\n",
    "\n",
    "Даны два списка [1,5,1,1,2,3,7,12,3,6,14,11,11] и [11,6,4,3,3,5,7,18]. Найдите симметрическую разницу этих двух списков. Отсортируйте по возрастанию и выведете первые два элемента."
   ]
  },
  {
   "cell_type": "code",
   "execution_count": 6,
   "id": "9aa70bdd",
   "metadata": {},
   "outputs": [
    {
     "name": "stdout",
     "output_type": "stream",
     "text": [
      "[1, 2]\n"
     ]
    }
   ],
   "source": [
    "list_1: list = [1,5,1,1,2,3,7,12,3,6,14,11,11]\n",
    "list_2: list = [11,6,4,3,3,5,7,18]\n",
    "\n",
    "symmethric_diffrence: list = list(set(list_1) ^ set(list_2))\n",
    "symmethric_diffrence.sort()\n",
    "print(symmethric_diffrence[0:2])"
   ]
  },
  {
   "cell_type": "markdown",
   "id": "4a4efacd",
   "metadata": {},
   "source": [
    "### Задание\n",
    "Даны два списка [1,2,3,4,5,6] и ['a','b','c','d','e','f']. Создайте словарь, где ключи будут представлены первым списком, а значения вторым, в том же порядке в каком они представлены."
   ]
  },
  {
   "cell_type": "code",
   "execution_count": 28,
   "id": "3f843118",
   "metadata": {},
   "outputs": [
    {
     "name": "stdout",
     "output_type": "stream",
     "text": [
      "{1: 'a', 2: 'b', 3: 'c', 4: 'd', 5: 'e', 6: 'f'}\n"
     ]
    }
   ],
   "source": [
    "numbers: list = [i for i in range(1, 7)]\n",
    "letters: list = [chr(i) for i in range(ord('a'), ord('f')+1)]\n",
    "dictionary: dict = dict(zip(numbers, letters)) \n",
    "\n",
    "print(dictionary)"
   ]
  },
  {
   "cell_type": "markdown",
   "id": "aef979dd",
   "metadata": {},
   "source": [
    "### Задание\n",
    "Создайте список цифр любой длины. Определите длину списка. Для случаев больше, равно и меньше 5 выведите соответствующие сообщения. Если список длиннее 5 и в нем есть цифра 3, выведите сообщение \"bingo!\""
   ]
  },
  {
   "cell_type": "code",
   "execution_count": 114,
   "id": "b19d9f15",
   "metadata": {},
   "outputs": [
    {
     "name": "stdout",
     "output_type": "stream",
     "text": [
      "bingo!\n"
     ]
    }
   ],
   "source": [
    "import random\n",
    "\n",
    "digits: list = [i for i in range(0, random.randrange(0, 10))]\n",
    "\n",
    "\n",
    "\n",
    "if(len(digits) > 5 and str(digits).find('3')):\n",
    "  print(\"bingo!\")\n",
    "elif(len(digits) > 5):\n",
    "  print(\"length > 5\")\n",
    "elif(len(digits) == 5):\n",
    "  print(\"length = 5\")\n",
    "else:\n",
    "  print(\"length < 5\")\n",
    "\n"
   ]
  },
  {
   "cell_type": "markdown",
   "id": "3caa255c",
   "metadata": {},
   "source": [
    "### Задание\n",
    "\n",
    "Дана строка:\n",
    "\n",
    "Habitasse est. Sodales ultricies. Imperdiet sit nunc odio. Non ultricies. Dapibus risus mattis dui tempus arcu elit. Imperdiet in e.\n",
    "\n",
    "Посчитайте количество упоминаний каждого символа (любой регистр) в этой строке и выведите результат.\n",
    "\n",
    "Подсказка: Используйте для решения set и dict"
   ]
  },
  {
   "cell_type": "code",
   "execution_count": null,
   "id": "b36ddf41",
   "metadata": {},
   "outputs": [
    {
     "name": "stdout",
     "output_type": "stream",
     "text": [
      "{'a': 6, 'b': 2, 'c': 4, 'd': 6, 'e': 12, 'f': 0, 'g': 0, 'h': 1, 'i': 17, 'j': 0, 'k': 0, 'l': 4, 'm': 4, 'n': 5, 'o': 4, 'p': 4, 'q': 0, 'r': 6, 's': 13, 't': 11, 'u': 8, 'v': 0, 'w': 0, 'x': 0, 'y': 0, 'z': 0}\n"
     ]
    }
   ],
   "source": [
    "import re\n",
    "\n",
    "string: str = \"Habitasse est. Sodales ultricies. Imperdiet sit nunc odio. Non ultricies. Dapibus risus mattis dui tempus arcu elit. Imperdiet in e.\"\n",
    "alphabet: list = [chr(i) for i in range(ord('a'), ord('z')+1)]\n",
    "\n",
    "\n",
    "count: list = [len([i.start() for i in re.finditer(j, string.lower())]) for j in alphabet ]\n",
    "\n",
    "dictionary: dict = dict(zip(alphabet, count)) \n",
    "\n",
    "print(dictionary)\n"
   ]
  },
  {
   "cell_type": "markdown",
   "id": "aced5675",
   "metadata": {},
   "source": [
    "### Задание\n",
    "1) Реализуйте функцию, которая считает квадрат разницы между двумя величинами и возвращает полученное значение\n",
    "\n",
    "\n",
    "2) Дан список чисел:\n",
    "\n",
    "   [12,32,1,67,2,15,12,68,90]\n",
    "\n",
    "   Реализуйте функцию, которая найдет максимальное значение в этом списке и вернет его."
   ]
  },
  {
   "cell_type": "code",
   "execution_count": null,
   "id": "6c178b9b",
   "metadata": {},
   "outputs": [
    {
     "data": {
      "text/plain": [
       "90"
      ]
     },
     "execution_count": 137,
     "metadata": {},
     "output_type": "execute_result"
    }
   ],
   "source": [
    "def get_square_diffrence(value1, value2):\n",
    "  return (value1 - value2) ** 2\n",
    "\n",
    "def get_max_value(list):\n",
    "  return max(list)\n",
    "\n"
   ]
  },
  {
   "cell_type": "markdown",
   "id": "7d53d843",
   "metadata": {},
   "source": [
    "### Задание\n",
    "Создайте класс Plane который будет иметь атрибуты length, wingspan, engines_count. Эти атрибуты должны быть проинициализированы в конструкторе. Так же создайте метод класса, который будет выводить характеристики вашего самолета (нафантазируйте в каком виде).\n",
    "\n",
    "Создайте объект этого класса с разными значениями атрибутов и вызовите у объекта метод показа характеристик."
   ]
  },
  {
   "cell_type": "code",
   "execution_count": 174,
   "id": "971d0e0a",
   "metadata": {},
   "outputs": [
    {
     "name": "stdout",
     "output_type": "stream",
     "text": [
      "{ length: 17.32, wingspan: 11.36, engines_count: 2 }\n"
     ]
    }
   ],
   "source": [
    "class Plane:\n",
    "  def __init__(self, length, wingspan, engines_count: int):\n",
    "    self.length = length\n",
    "    self.wingspan = wingspan\n",
    "    self.engines_count = engines_count\n",
    "  \n",
    "  def print(self):\n",
    "    print(\"{ length: \" + str(self.length) + \", wingspan: \" + str(self.wingspan) + \", engines_count: \" + str(self.engines_count) + \" }\")\n",
    "\n",
    "\n",
    "MiG29 = Plane(length=17.32, wingspan=11.36, engines_count=2)\n",
    "\n",
    "MiG29.print()"
   ]
  },
  {
   "cell_type": "markdown",
   "id": "7ca0b65e",
   "metadata": {},
   "source": [
    "### Задание\n",
    "Создайте поток записи в файл (чтобы файл создался при исполнении кода), назовите как хотите. Запишите в него следующую строку:\n",
    "\n",
    "Lorem ipsum dolor sit amet, consectetur adipiscing elit, sed do eiusmod tempor incididunt ut labore et dolore magna aliqua.\n",
    "\n",
    "Закройте поток записи.\n",
    "\n",
    "Откройте поток чтения и считайте из этого файла содержимое. Приведите текст к нижнему регистру, удалите запятые и сохраните его в переменной. Закройте поток чтения.\n",
    "\n",
    "Откройте поток записи и ДОПИШИТЕ с новой строки результат прошлого шага в файл. Закройте поток записи. Проверьте корректность данных в файле.\n",
    "\n",
    "Должно быть быть по итогу в файле:\n",
    "\n",
    "Lorem ipsum dolor sit amet, consectetur adipiscing elit, sed do eiusmod tempor incididunt ut labore et dolore magna aliqua.\n",
    "\n",
    "lorem ipsum dolor sit amet consectetur adipiscing elit sed do eiusmod tempor incididunt ut labore et dolore magna aliqua."
   ]
  },
  {
   "cell_type": "code",
   "execution_count": 200,
   "id": "39a5a3b2",
   "metadata": {},
   "outputs": [],
   "source": [
    "with open('latin.txt', 'w') as f:\n",
    "  f.write(\"Lorem ipsum dolor sit amet, consectetur adipiscing elit, sed do eiusmod tempor incididunt ut labore et dolore magna aliqua.\")\n",
    "pass\n",
    "\n",
    "with open('latin.txt', 'r') as f:\n",
    "  file = ' '.join(f.readlines()) \n",
    "  file = str(file).lower().replace(',', '')\n",
    "pass\n",
    "\n",
    "with open('latin.txt', 'a') as f:\n",
    "  f.write('\\n\\n' + file)\n",
    "pass\n"
   ]
  }
 ],
 "metadata": {
  "colab": {
   "provenance": []
  },
  "kernelspec": {
   "display_name": "Python 3",
   "language": "python",
   "name": "python3"
  },
  "language_info": {
   "codemirror_mode": {
    "name": "ipython",
    "version": 3
   },
   "file_extension": ".py",
   "mimetype": "text/x-python",
   "name": "python",
   "nbconvert_exporter": "python",
   "pygments_lexer": "ipython3",
   "version": "3.12.8"
  }
 },
 "nbformat": 4,
 "nbformat_minor": 5
}
